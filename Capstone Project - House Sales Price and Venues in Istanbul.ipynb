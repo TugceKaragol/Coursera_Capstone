{
 "cells": [
  {
   "cell_type": "markdown",
   "metadata": {},
   "source": [
    "# House Sales Prices and Venues in Istanbul"
   ]
  },
  {
   "cell_type": "markdown",
   "metadata": {},
   "source": [
    "## A. Introduction"
   ]
  },
  {
   "cell_type": "markdown",
   "metadata": {},
   "source": [
    "### 1. Background & Description"
   ]
  },
  {
   "cell_type": "markdown",
   "metadata": {},
   "source": [
    "  Istanbul is the most populous city in Turkey and is also one of the most populated cities in the World. It is a unique city that combines historic fabric and modernity at the same time.  It has a special location as a bridge between Asia and Europe. This city, which has a high population density due to its small surface area relatively its population, consists of 39 districts.\n",
    "  \n",
    "  This study aims to be a guide for people who want to settle in İstanbul and having own real estate there. For this purpose, in this study, real estate prices for each district will be investigated and comparisons will be made on square meter costs.  Besides, district-based venues will be analyzed to give an idea about the social opportunities of districts.  People who want to have a house in Istanbul are expected to decide on the district that is suitable for both their budget and their social life by taking advantage of the results of this study. "
   ]
  },
  {
   "cell_type": "markdown",
   "metadata": {},
   "source": [
    "## B. Data Description"
   ]
  },
  {
   "cell_type": "markdown",
   "metadata": {},
   "source": [
    "__1. District Data:__ First of all I needed some information about Istanbul such as a list of districts… so  Wikipedia is the best place to get that. \n",
    "\n",
    "https://en.wikipedia.org/wiki/List_of_districts_of_Istanbul\n",
    "\n",
    "After getting the list of the district from Wikipedia, I used the GeoPy module to get the latitude and longitude information of the districts.\n",
    "\n",
    "__2. House Prices Data:__ There are not update public data for that so I got this information from the real estate sales web page. Then I cleaned and created a data table.\n",
    "\n",
    "https://github.com/TugceKaragol/Coursera_Capstone/blob/6f276377cbf42239dd622efedce673b1251fb3f4/Avg_House_Sales_Price.csv\n",
    "\n",
    "https://www.mahalligundem.com/hurriyet-emlak-2021-endeksi-aciklandi/47283/ \n",
    "\n",
    "__3. Venue Data:__ I used Foursquare API to get the most common venues of Districts of Istanbul.  "
   ]
  },
  {
   "cell_type": "code",
   "execution_count": null,
   "metadata": {},
   "outputs": [],
   "source": []
  }
 ],
 "metadata": {
  "kernelspec": {
   "display_name": "Python 3",
   "language": "python",
   "name": "python3"
  },
  "language_info": {
   "codemirror_mode": {
    "name": "ipython",
    "version": 3
   },
   "file_extension": ".py",
   "mimetype": "text/x-python",
   "name": "python",
   "nbconvert_exporter": "python",
   "pygments_lexer": "ipython3",
   "version": "3.8.5"
  }
 },
 "nbformat": 4,
 "nbformat_minor": 4
}
